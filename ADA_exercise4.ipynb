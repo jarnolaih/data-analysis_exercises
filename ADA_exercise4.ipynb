{
 "cells": [
  {
   "cell_type": "markdown",
   "metadata": {},
   "source": [
    "# Exercise 4 | Applications of Data Analysis\n"
   ]
  },
  {
   "cell_type": "markdown",
   "metadata": {},
   "source": [
    "## Water permability prediction in forestry <br>\n",
    "\n",
    "In this task, the client wants you to estimate the spatial prediction performance of K-nearest neighbor regression model with K=5 (5NN), using spatial leave-one-out cross-validation (i.e. SKCV, with number of folds == number of data points). The client wants you to use the C-index as the performance measure.  \n",
    "\n",
    "In other words, the client wants you to answer the question: \"What happens to the prediction performance of water permeability using 5-nearest neighbor regression model, when the geographical distance between known data and unknown data increases?\".\n",
    "\n",
    "In this task, you have three data files available (with 1691 data points): \n",
    "\n",
    "- input.csv, contains the 95 predictor features. \n",
    "- output.csv, contains the water permebility values. \n",
    "- coordinates.csv, contains the corresponding geographical coordinate locations of the data points. The unit of the coordinates is metre, and you can use Euclidean distance to calculate distances between the coordinate points. \n",
    "\n",
    "Implement the following tasks to complete this exercise:\n",
    "\n",
    "********************************************\n",
    "\n",
    "#### 1. Z-score standardize the predictor features (input.csv). \n",
    "\n",
    "#### 2. Perform spatial leave-one-out cross-validation with 5NN model for the provided data set (check the end of the lecture slides for the pseudocode). Estimate the water permeability prediction performance (using 5NN model and C-index) with the following distance parameter values: d = 0, 10, 20, ..., 250 (that is, 10 meter intervals). \n",
    "\n",
    "#### 3. When you have calculated the C-index performance measure for each value of d, visualize the results with the C-index (y-axis) as a function of d (x-axis).\n",
    "\n",
    "********************************************\n",
    "\n",
    "Your .ipynb-file must include the following: \n",
    "\n",
    "- Your own implementation of the spatial leave-one-out cross-validation for the current task. Remember to also take advantage of earlier exercises (e.g. C-index). For the 5-nearest neighbor and Euclidean distance you can use third-party libraries if you want.  \n",
    "\n",
    "\n",
    "- Plot of the graph C-index vs. distance parameter value. \n",
    "\n",
    "<br><br><br>\n",
    "-- START IMPLEMENTING YOUR EXERCISE AFTER THIS LINE --\n",
    "<br><br><br>"
   ]
  },
  {
   "cell_type": "markdown",
   "metadata": {},
   "source": [
    "### Import necessary libraries"
   ]
  },
  {
   "cell_type": "code",
   "execution_count": 1,
   "metadata": {},
   "outputs": [],
   "source": [
    "# In this cell, import all the libraries that you need. For example: \n",
    "import numpy as np\n",
    "from scipy import stats\n",
    "from sklearn.neighbors import KNeighborsRegressor\n",
    "from sklearn.neighbors import NearestNeighbors\n",
    "import matplotlib.pyplot as pltp\n",
    "from scipy.spatial import distance"
   ]
  },
  {
   "cell_type": "markdown",
   "metadata": {},
   "source": [
    "### Read in the datasets"
   ]
  },
  {
   "cell_type": "code",
   "execution_count": 2,
   "metadata": {},
   "outputs": [
    {
     "name": "stdout",
     "output_type": "stream",
     "text": [
      "Input dimensions: (1691, 95)\n",
      "Output dimensions: (1691,)\n",
      "Coordinates dimensions: (1691, 2)\n"
     ]
    }
   ],
   "source": [
    "# In this cell, read the files input.csv, output.csv and coordinates.csv.\n",
    "# Print out the dataset dimesions (i.e. number of rows and columns).\n",
    "#\n",
    "# Note that the coordinates are in EUREF-TM35FIN format, so you \n",
    "# can use the Euclidean distance to calculate the distance between two coordinate points. \n",
    "\n",
    "input_data = np.genfromtxt('INPUT.csv', delimiter=',')\n",
    "output_data = np.genfromtxt('OUTPUT.csv', delimiter=',')\n",
    "coordinates = np.genfromtxt('COORDINATES.csv', delimiter=',')\n",
    "\n",
    "print('Input dimensions:', input_data.shape)\n",
    "print('Output dimensions:', output_data.shape)\n",
    "print('Coordinates dimensions:', coordinates.shape)\n"
   ]
  },
  {
   "cell_type": "markdown",
   "metadata": {},
   "source": [
    "### Standardization of the predictor features (input.csv)"
   ]
  },
  {
   "cell_type": "code",
   "execution_count": 3,
   "metadata": {},
   "outputs": [],
   "source": [
    "# Standardize the predictor features (input.csv) by removing the mean and scaling to unit variance. \n",
    "# In other words, z-score the predictor features. You are allowed to use third-party libraries for doing this. \n",
    "input_z = stats.zscore(input_data)"
   ]
  },
  {
   "cell_type": "markdown",
   "metadata": {},
   "source": [
    "### Functions"
   ]
  },
  {
   "cell_type": "code",
   "execution_count": 4,
   "metadata": {},
   "outputs": [],
   "source": [
    "# Include here all the functions (for example the C-index-function) that you need in order to implement the task.\n",
    "def cindex(true_labels, predictions):\n",
    "    n = 0\n",
    "    h_sum = 0\n",
    "\n",
    "    for i in range (len(true_labels)):\n",
    "        t = true_labels[i]\n",
    "        p = predictions[i]\n",
    "        j= i+1\n",
    "        for j in range(len(true_labels)):\n",
    "            nt = true_labels[j]\n",
    "            np = predictions[j]\n",
    "            if t != nt:\n",
    "                n = n + 1\n",
    "                if (p < np and t < nt) or (p > np and t > nt):\n",
    "                    h_sum = h_sum + 1\n",
    "                elif p == np:\n",
    "                    h_sum = h_sum + 0.5\n",
    "    cindx = h_sum/n\n",
    "    return cindx"
   ]
  },
  {
   "cell_type": "markdown",
   "metadata": {},
   "source": [
    "### Results for spatial leave-one-out cross-validation with 5-nearest neighbor regression model"
   ]
  },
  {
   "cell_type": "code",
   "execution_count": 5,
   "metadata": {},
   "outputs": [
    {
     "data": {
      "image/png": "[encoded data removed]",
      "text/plain": [
       "<Figure size 432x288 with 1 Axes>"
      ]
     },
     "metadata": {
      "needs_background": "light"
     },
     "output_type": "display_data"
    }
   ],
   "source": [
    "# In this cell, run your script for the Spatial leave-One-Out cross-validation \n",
    "# with 5-nearest neighbor regression model and visualize the results as \n",
    "# requested in the task assignment.\n",
    "\n",
    "# distance values\n",
    "d_range = np.arange(0, 260,10).tolist()\n",
    "\n",
    "c_index_array = []\n",
    "\n",
    "#Calculate all pairwise distances using euclidean distance\n",
    "dist = distance.cdist(coordinates, coordinates, 'euclidean')\n",
    "\n",
    "for D in d_range:\n",
    "    \n",
    "    true=[]\n",
    "    pred=[]\n",
    "    for z in range(len(coordinates)):\n",
    "            \n",
    "            idx=[]\n",
    "            \n",
    "            # Find all neighbors index that are inside the distance D\n",
    "            for i in range(len(coordinates)):\n",
    "                if dist[z,i] <= D:\n",
    "                    idx.append(i)\n",
    "                    \n",
    "            \n",
    "            # delete all neighbors too close (test set included) \n",
    "            input_train = np.delete(input_z, (idx), axis=0)\n",
    "            output_train = np.delete(output_data, (idx), axis=0)\n",
    "            \n",
    "            # use the remaining as training set for the prediction using knn 5 regression\n",
    "            knn5 = KNeighborsRegressor(n_neighbors=5)\n",
    "            knn5.fit(input_train, output_train)\n",
    "        \n",
    "            prediction = knn5.predict([input_z[z]])\n",
    "                    \n",
    "            #add true and prediciton values to arrays\n",
    "            true.append(output_data[z])\n",
    "            pred.append(prediction)\n",
    "                    \n",
    "                \n",
    "\n",
    "    #calculate c-index for each distance D and add to array                \n",
    "    c_index = cindex(output_data, pred)\n",
    "    c_index_array.append(c_index)\n",
    "\n",
    "\n",
    "# Create scatter plot of C-index performance as a function of the distance D \n",
    "pltp.scatter(d_range, c_index_array)\n",
    "pltp.xlabel('Distance (m)')\n",
    "pltp.ylabel('C-index')\n",
    "pltp.show()"
   ]
  },
  {
   "cell_type": "markdown",
   "metadata": {},
   "source": [
    "### Interpretation of the results"
   ]
  },
  {
   "cell_type": "code",
   "execution_count": 6,
   "metadata": {},
   "outputs": [],
   "source": [
    "# In this cell, give a brief commentary on the results, what happens to the prediction \n",
    "# performance as the prediction distance increases?\n",
    "\n",
    "# From the results we can see that the C-index performance decreases as the distance grows\n",
    "# and after the distance goes over 100m, the C-index performance starts to decrease rapibly.\n",
    "# To me it seems that the results are to close to expected."
   ]
  }
 ],
 "metadata": {
  "kernelspec": {
   "display_name": "Python 3",
   "language": "python",
   "name": "python3"
  },
  "language_info": {
   "codemirror_mode": {
    "name": "ipython",
    "version": 3
   },
   "file_extension": ".py",
   "mimetype": "text/x-python",
   "name": "python",
   "nbconvert_exporter": "python",
   "pygments_lexer": "ipython3",
   "version": "3.7.0"
  },
  "toc": {
   "base_numbering": 1,
   "nav_menu": {},
   "number_sections": false,
   "sideBar": true,
   "skip_h1_title": false,
   "title_cell": "Table of Contents",
   "title_sidebar": "Contents",
   "toc_cell": false,
   "toc_position": {},
   "toc_section_display": true,
   "toc_window_display": true
  },
  "varInspector": {
   "cols": {
    "lenName": 16,
    "lenType": 16,
    "lenVar": 40
   },
   "kernels_config": {
    "python": {
     "delete_cmd_postfix": "",
     "delete_cmd_prefix": "del ",
     "library": "var_list.py",
     "varRefreshCmd": "print(var_dic_list())"
    },
    "r": {
     "delete_cmd_postfix": ") ",
     "delete_cmd_prefix": "rm(",
     "library": "var_list.r",
     "varRefreshCmd": "cat(var_dic_list()) "
    }
   },
   "types_to_exclude": [
    "module",
    "function",
    "builtin_function_or_method",
    "instance",
    "_Feature"
   ],
   "window_display": false
  }
 },
 "nbformat": 4,
 "nbformat_minor": 2
}
